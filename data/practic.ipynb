{
 "cells": [
  {
   "cell_type": "code",
   "execution_count": 35,
   "metadata": {},
   "outputs": [
    {
     "data": {
      "text/plain": [
       "time_of_day\n",
       "day        143012\n",
       "morning     95530\n",
       "evening     46373\n",
       "night       15085\n",
       "Name: count, dtype: int64"
      ]
     },
     "execution_count": 35,
     "metadata": {},
     "output_type": "execute_result"
    }
   ],
   "source": [
    "import pandas as pd\n",
    "\n",
    "citibike_tripdata = pd.read_csv('C:\\IDE\\data\\citibike-tripdata.csv', sep=',')\n",
    "list(citibike_tripdata)\n",
    "\n",
    "citibike_tripdata.drop(['start station id', 'end station id'], axis=1, inplace = True)\n",
    "citibike_tripdata['age'] = 2018 - citibike_tripdata['birth year']\n",
    "citibike_tripdata.drop(['birth year'], axis=1, inplace=True)\n",
    "len(citibike_tripdata[citibike_tripdata['age'] > 60])\n",
    "citibike_tripdata['trip duration'] = pd.to_datetime(citibike_tripdata['stoptime']).dt.minute - pd.to_datetime(citibike_tripdata['starttime']).dt.minute\n",
    "\n",
    "citibike_tripdata['weekdaytrip'] = pd.to_datetime(citibike_tripdata['starttime']).dt.dayofweek\n",
    "\n",
    "def get_weekend(weekday):\n",
    "    if weekday == 5 or weekday == 6:\n",
    "        return 1\n",
    "    else:\n",
    "        return 0\n",
    "\n",
    "citibike_tripdata['weekend'] = citibike_tripdata['weekdaytrip'].apply(get_weekend)\n",
    "citibike_tripdata['weekdaytrip'].value_counts()\n",
    "\n",
    "\n",
    "citibike_tripdata['hour_of_day'] = pd.to_datetime(citibike_tripdata['starttime']).dt.hour\n",
    "\n",
    "def get_hour(daytime):\n",
    "    if 6 >= daytime >= 0:\n",
    "        return 'night'\n",
    "    else:\n",
    "        if 12 >= daytime > 6:\n",
    "            return 'morning'\n",
    "        else:\n",
    "            if 18 >= daytime > 12:\n",
    "                return 'day'\n",
    "            else:\n",
    "                 return 'evening'\n",
    "    \n",
    "citibike_tripdata['time_of_day'] = citibike_tripdata['hour_of_day'].apply(get_hour)\n",
    "citibike_tripdata['time_of_day'].value_counts()\n",
    "\n"
   ]
  }
 ],
 "metadata": {
  "kernelspec": {
   "display_name": "Python 3",
   "language": "python",
   "name": "python3"
  },
  "language_info": {
   "codemirror_mode": {
    "name": "ipython",
    "version": 3
   },
   "file_extension": ".py",
   "mimetype": "text/x-python",
   "name": "python",
   "nbconvert_exporter": "python",
   "pygments_lexer": "ipython3",
   "version": "3.9.10"
  },
  "orig_nbformat": 4
 },
 "nbformat": 4,
 "nbformat_minor": 2
}
